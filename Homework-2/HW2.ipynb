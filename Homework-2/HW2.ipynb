{
  "nbformat": 4,
  "nbformat_minor": 0,
  "metadata": {
    "colab": {
      "provenance": []
    },
    "kernelspec": {
      "name": "python3",
      "display_name": "Python 3"
    },
    "language_info": {
      "name": "python"
    }
  },
  "cells": [
    {
      "cell_type": "markdown",
      "source": [
        "**NUMPY**"
      ],
      "metadata": {
        "id": "zSjU1gpUn3uS"
      }
    },
    {
      "cell_type": "markdown",
      "source": [
        "1. Define two custom numpy arrays, say A and B. Generate two new numpy arrays by stacking A and B vertically and horizontally."
      ],
      "metadata": {
        "id": "pXgNi2z3n0BI"
      }
    },
    {
      "cell_type": "code",
      "execution_count": 1,
      "metadata": {
        "colab": {
          "base_uri": "https://localhost:8080/"
        },
        "id": "uwwoVp--lu1I",
        "outputId": "a8f9adcc-a122-4b5e-b62a-d155f568e782"
      },
      "outputs": [
        {
          "output_type": "stream",
          "name": "stdout",
          "text": [
            "[[ 1  2  3  7  9 10]\n",
            " [ 3  4  5  6 10 12]]\n",
            "[ 1  2  3  7  9 10  3  4  5  6 10 12]\n"
          ]
        }
      ],
      "source": [
        "import numpy as np\n",
        "\n",
        "A = np.array([1, 2, 3, 7, 9, 10])\n",
        "B = np.array([3, 4, 5, 6, 10, 12])\n",
        "\n",
        "v_stacked = np.vstack([A, B])\n",
        "h_stacked = np.hstack([A, B])\n",
        "\n",
        "print(v_stacked)\n",
        "print(h_stacked)"
      ]
    },
    {
      "cell_type": "markdown",
      "source": [
        "2. Find common elements between A and B. [Hint : Intersection of two sets]"
      ],
      "metadata": {
        "id": "xg6cPGumn8qd"
      }
    },
    {
      "cell_type": "code",
      "source": [
        "common = np.intersect1d(A, B)\n",
        "\n",
        "print(common)"
      ],
      "metadata": {
        "colab": {
          "base_uri": "https://localhost:8080/"
        },
        "id": "NZOS7dSFoIPN",
        "outputId": "70ffa476-c7d0-4425-f59e-f036c0565f99"
      },
      "execution_count": 2,
      "outputs": [
        {
          "output_type": "stream",
          "name": "stdout",
          "text": [
            "[ 3 10]\n"
          ]
        }
      ]
    },
    {
      "cell_type": "markdown",
      "source": [
        "3. Extract all numbers from A which are within a specific range. eg between 5 and 10. [Hint: np.where() might be useful or boolean masks]"
      ],
      "metadata": {
        "id": "Q9nvYl-KoIm_"
      }
    },
    {
      "cell_type": "code",
      "source": [
        "mask = (A >= 5) & (A <= 10)\n",
        "A_in_range = A[mask]\n",
        "print(A_in_range)"
      ],
      "metadata": {
        "colab": {
          "base_uri": "https://localhost:8080/"
        },
        "id": "iqwU3Z7OoKfa",
        "outputId": "a07e4cd0-8a58-4867-bcd2-fe516a55003c"
      },
      "execution_count": 3,
      "outputs": [
        {
          "output_type": "stream",
          "name": "stdout",
          "text": [
            "[ 7  9 10]\n"
          ]
        }
      ]
    },
    {
      "cell_type": "markdown",
      "source": [
        "4. Filter the rows of iris_2d that has petallength (3rd column) > 1.5 and sepallength (1st column) < 5.0\n",
        "\n",
        "url = 'https://archive.ics.uci.edu/ml/machine-learning-databases/iris/iris.data'\n",
        "iris_2d = np.genfromtxt(url, delimiter=',', dtype='float', usecols=[0,1,2,3])"
      ],
      "metadata": {
        "id": "9R6gtjr8oK7Z"
      }
    },
    {
      "cell_type": "code",
      "source": [
        "url = 'https://archive.ics.uci.edu/ml/machine-learning-databases/iris/iris.data'\n",
        "iris_2d = np.genfromtxt(url, delimiter=',', dtype='float', usecols=[0,1,2,3])\n",
        "\n",
        "cond = (iris_2d[:, 2] > 1.5) & (iris_2d[:, 0] < 5.0)\n",
        "iris_filtered = iris_2d[cond]\n",
        "\n",
        "print(iris_filtered[:5])"
      ],
      "metadata": {
        "colab": {
          "base_uri": "https://localhost:8080/"
        },
        "id": "32P7PghToL1E",
        "outputId": "b8f26332-0c28-4088-a523-7c201210cf69"
      },
      "execution_count": 4,
      "outputs": [
        {
          "output_type": "stream",
          "name": "stdout",
          "text": [
            "[[4.8 3.4 1.6 0.2]\n",
            " [4.8 3.4 1.9 0.2]\n",
            " [4.7 3.2 1.6 0.2]\n",
            " [4.8 3.1 1.6 0.2]\n",
            " [4.9 2.4 3.3 1. ]]\n"
          ]
        }
      ]
    },
    {
      "cell_type": "markdown",
      "source": [
        "**PANDAS**"
      ],
      "metadata": {
        "id": "MprfzrwDoMU9"
      }
    },
    {
      "cell_type": "markdown",
      "source": [
        "1. From df filter the 'Manufacturer', 'Model' and 'Type' for every 20th row starting from 1st (row 0).\n",
        "\n",
        "df = pd.read_csv\n",
        "('https://raw.githubusercontent.com/selva86/datasets/master/Cars93_miss.csv')"
      ],
      "metadata": {
        "id": "vj2wsIWBoPtC"
      }
    },
    {
      "cell_type": "code",
      "source": [
        "import pandas as pd\n",
        "import numpy as np\n",
        "\n",
        "df = pd.read_csv('https://raw.githubusercontent.com/selva86/datasets/master/Cars93_miss.csv')\n",
        "\n",
        "every_20th = df.loc[::20, ['Manufacturer', 'Model', 'Type']]\n",
        "\n",
        "print(every_20th.head())"
      ],
      "metadata": {
        "colab": {
          "base_uri": "https://localhost:8080/"
        },
        "id": "Jovxr2TwoaX-",
        "outputId": "9b211ff8-be89-4de1-abbf-a40b712f9cd8"
      },
      "execution_count": 5,
      "outputs": [
        {
          "output_type": "stream",
          "name": "stdout",
          "text": [
            "   Manufacturer    Model     Type\n",
            "0         Acura  Integra    Small\n",
            "20     Chrysler  LeBaron  Compact\n",
            "40        Honda  Prelude   Sporty\n",
            "60      Mercury   Cougar  Midsize\n",
            "80       Subaru   Loyale    Small\n"
          ]
        }
      ]
    },
    {
      "cell_type": "markdown",
      "source": [
        "2. Replace missing values in Min.Price and Max.Price columns with their respective mean.\n",
        "\n",
        "df = pd.read_csv\n",
        "('https://raw.githubusercontent.com/selva86/datasets/master/Cars93_miss.csv')"
      ],
      "metadata": {
        "id": "ztjyuTqrocQ8"
      }
    },
    {
      "cell_type": "code",
      "source": [
        "cols = ['Min.Price', 'Max.Price']\n",
        "df[cols] = df[cols].fillna(df[cols].mean())\n",
        "print(df[cols].isna().sum())"
      ],
      "metadata": {
        "colab": {
          "base_uri": "https://localhost:8080/"
        },
        "id": "vnxlcrm_oeju",
        "outputId": "53d5c203-79bb-4cf7-a01a-22c20aebfd68"
      },
      "execution_count": 6,
      "outputs": [
        {
          "output_type": "stream",
          "name": "stdout",
          "text": [
            "Min.Price    0\n",
            "Max.Price    0\n",
            "dtype: int64\n"
          ]
        }
      ]
    },
    {
      "cell_type": "markdown",
      "source": [
        "3. How to get the rows of a dataframe with row sum > 100?\n",
        "\n",
        "df = pd.DataFrame(np.random.randint(10, 40, 60).reshape(-1, 4))"
      ],
      "metadata": {
        "id": "ikjqaIZioe4M"
      }
    },
    {
      "cell_type": "code",
      "source": [
        "df_rand = pd.DataFrame(np.random.randint(10, 40, 60).reshape(-1, 4))\n",
        "rows_sum_gt_100 = df_rand[df_rand.sum(axis=1) > 100]\n",
        "print(rows_sum_gt_100.head())"
      ],
      "metadata": {
        "colab": {
          "base_uri": "https://localhost:8080/"
        },
        "id": "3Kbnbk11ofm4",
        "outputId": "63a0289a-5a42-47f9-aca5-638f542e8c22"
      },
      "execution_count": 7,
      "outputs": [
        {
          "output_type": "stream",
          "name": "stdout",
          "text": [
            "    0   1   2   3\n",
            "0  38  19  30  30\n",
            "2  28  20  39  25\n",
            "3  16  38  22  28\n",
            "5  24  38  13  28\n",
            "6  12  36  30  29\n"
          ]
        }
      ]
    }
  ]
}