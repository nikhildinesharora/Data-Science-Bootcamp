{
  "nbformat": 4,
  "nbformat_minor": 0,
  "metadata": {
    "colab": {
      "provenance": []
    },
    "kernelspec": {
      "name": "python3",
      "display_name": "Python 3"
    },
    "language_info": {
      "name": "python"
    }
  },
  "cells": [
    {
      "cell_type": "markdown",
      "source": [
        "1. Write a program that takes a word as an input and print the number of vowels in the word."
      ],
      "metadata": {
        "id": "ZwEuWpLyqeuS"
      }
    },
    {
      "cell_type": "code",
      "source": [
        "string = \"apocalypse\"\n",
        "\n",
        "def count_vowels(word):\n",
        "  count=0\n",
        "\n",
        "  for char in word:\n",
        "    if char in ['a','e','i','o','u']:\n",
        "      count+=1\n",
        "\n",
        "  return count\n",
        "\n",
        "print(count_vowels(string))"
      ],
      "metadata": {
        "colab": {
          "base_uri": "https://localhost:8080/"
        },
        "id": "33V91lPKqf-c",
        "outputId": "66dec14b-6230-402f-fcf5-dbf6ae48b313"
      },
      "execution_count": 1,
      "outputs": [
        {
          "output_type": "stream",
          "name": "stdout",
          "text": [
            "4\n"
          ]
        }
      ]
    },
    {
      "cell_type": "markdown",
      "source": [
        "2. Iterate through the following list of animals and print each one in all caps.\n",
        "\n",
        "  animals=['tiger', 'elephant', 'monkey', 'zebra', 'panther']"
      ],
      "metadata": {
        "id": "GSxMx1OFqk1R"
      }
    },
    {
      "cell_type": "code",
      "source": [
        "animals=['tiger', 'elephant', 'monkey', 'zebra', 'panther']\n",
        "\n",
        "for i in range(len(animals)):\n",
        "  animals[i]=animals[i].upper()\n",
        "\n",
        "print(animals)"
      ],
      "metadata": {
        "colab": {
          "base_uri": "https://localhost:8080/"
        },
        "id": "eDyZFgE8qnfk",
        "outputId": "aa884545-5f7b-4464-8bb8-b0b92506e189"
      },
      "execution_count": 2,
      "outputs": [
        {
          "output_type": "stream",
          "name": "stdout",
          "text": [
            "['TIGER', 'ELEPHANT', 'MONKEY', 'ZEBRA', 'PANTHER']\n"
          ]
        }
      ]
    },
    {
      "cell_type": "markdown",
      "source": [
        "3. Write a program that iterates from 1 to 20, printing each number and whether it's odd or even."
      ],
      "metadata": {
        "id": "g0WxSIs1qoMQ"
      }
    },
    {
      "cell_type": "code",
      "source": [
        "nums = range(1,21)\n",
        "\n",
        "for i in nums:\n",
        "  if i % 2 != 0:\n",
        "    print(i, \"is odd\")\n",
        "  else:\n",
        "    print(i, \"is even\")"
      ],
      "metadata": {
        "colab": {
          "base_uri": "https://localhost:8080/"
        },
        "id": "q7Wi-X2HqqxS",
        "outputId": "d21ec820-b7eb-440d-82b5-64221a094cf2"
      },
      "execution_count": 3,
      "outputs": [
        {
          "output_type": "stream",
          "name": "stdout",
          "text": [
            "1 is odd\n",
            "2 is even\n",
            "3 is odd\n",
            "4 is even\n",
            "5 is odd\n",
            "6 is even\n",
            "7 is odd\n",
            "8 is even\n",
            "9 is odd\n",
            "10 is even\n",
            "11 is odd\n",
            "12 is even\n",
            "13 is odd\n",
            "14 is even\n",
            "15 is odd\n",
            "16 is even\n",
            "17 is odd\n",
            "18 is even\n",
            "19 is odd\n",
            "20 is even\n"
          ]
        }
      ]
    },
    {
      "cell_type": "markdown",
      "source": [
        "4. Write a program to check if a string is a palindrome or not."
      ],
      "metadata": {
        "id": "LdTTETSuqrGG"
      }
    },
    {
      "cell_type": "code",
      "source": [
        "def is_palindrome(s):\n",
        "  s = s.lower().replace(\" \", \"\")\n",
        "  return s == s[::-1]\n",
        "\n",
        "string1 = \"arora\"\n",
        "string2 = \"nikhil\"\n",
        "\n",
        "print(f\"'{string1}' is a palindrome: {is_palindrome(string1)}\")\n",
        "print(f\"'{string2}' is a palindrome: {is_palindrome(string2)}\")"
      ],
      "metadata": {
        "colab": {
          "base_uri": "https://localhost:8080/"
        },
        "id": "_Y_S0Pbzrtut",
        "outputId": "4899a071-24cf-48f9-fb11-228b230c6358"
      },
      "execution_count": 4,
      "outputs": [
        {
          "output_type": "stream",
          "name": "stdout",
          "text": [
            "'arora' is a palindrome: True\n",
            "'nikhil' is a palindrome: False\n"
          ]
        }
      ]
    },
    {
      "cell_type": "markdown",
      "source": [
        "5. Write a function sum_of_integers(a, b) that takes two integers as input from the user and returns their sum."
      ],
      "metadata": {
        "id": "L312mtu0qtoW"
      }
    },
    {
      "cell_type": "code",
      "source": [
        "def sum_of_integers(a, b):\n",
        "  return a + b\n",
        "\n",
        "num1 = 5\n",
        "num2 = 7\n",
        "result = sum_of_integers(num1, num2)\n",
        "print(f\"The sum of {num1} and {num2} is: {result}\")"
      ],
      "metadata": {
        "colab": {
          "base_uri": "https://localhost:8080/"
        },
        "id": "8nSnT5JiqyZE",
        "outputId": "750ee9c4-9961-494b-9568-c05fb0e8d3d8"
      },
      "execution_count": 5,
      "outputs": [
        {
          "output_type": "stream",
          "name": "stdout",
          "text": [
            "The sum of 5 and 7 is: 12\n"
          ]
        }
      ]
    }
  ]
}